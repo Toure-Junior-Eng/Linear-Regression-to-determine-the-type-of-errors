{
 "cells": [
  {
   "cell_type": "code",
   "execution_count": 7,
   "id": "f00f3e83",
   "metadata": {
    "scrolled": false
   },
   "outputs": [],
   "source": [
    "# import necessary libraries\n",
    "import pandas as pd\n",
    "import numpy as np\n",
    "from sklearn.linear_model import LinearRegression\n",
    "from sklearn.model_selection import train_test_split\n",
    "from sklearn.metrics import mean_absolute_error, mean_squared_error, r2_score\n",
    "import matplotlib.pyplot as plt\n"
   ]
  },
  {
   "cell_type": "code",
   "execution_count": 8,
   "id": "51233a07",
   "metadata": {},
   "outputs": [
    {
     "data": {
      "text/html": [
       "<div>\n",
       "<style scoped>\n",
       "    .dataframe tbody tr th:only-of-type {\n",
       "        vertical-align: middle;\n",
       "    }\n",
       "\n",
       "    .dataframe tbody tr th {\n",
       "        vertical-align: top;\n",
       "    }\n",
       "\n",
       "    .dataframe thead th {\n",
       "        text-align: right;\n",
       "    }\n",
       "</style>\n",
       "<table border=\"1\" class=\"dataframe\">\n",
       "  <thead>\n",
       "    <tr style=\"text-align: right;\">\n",
       "      <th></th>\n",
       "      <th>Depth_(m)</th>\n",
       "      <th>Bit Size_(inch)</th>\n",
       "      <th>Bit_Type</th>\n",
       "      <th>Weight_on_Bit</th>\n",
       "      <th>Bit_Rotation_(RPM)</th>\n",
       "      <th>Mud_Weight(pcf)</th>\n",
       "      <th>Flow_Rate(gpm)</th>\n",
       "      <th>Pump_Pressure_(psia)</th>\n",
       "      <th>Rate_of_Penetration_ROP_(M/H)</th>\n",
       "    </tr>\n",
       "  </thead>\n",
       "  <tbody>\n",
       "    <tr>\n",
       "      <th>0</th>\n",
       "      <td>18.0</td>\n",
       "      <td>26.0</td>\n",
       "      <td>1</td>\n",
       "      <td>3.5</td>\n",
       "      <td>35.0</td>\n",
       "      <td>65.0</td>\n",
       "      <td>100</td>\n",
       "      <td>0</td>\n",
       "      <td>0.20</td>\n",
       "    </tr>\n",
       "    <tr>\n",
       "      <th>1</th>\n",
       "      <td>20.0</td>\n",
       "      <td>26.0</td>\n",
       "      <td>1</td>\n",
       "      <td>3.5</td>\n",
       "      <td>35.0</td>\n",
       "      <td>65.0</td>\n",
       "      <td>100</td>\n",
       "      <td>200</td>\n",
       "      <td>2.50</td>\n",
       "    </tr>\n",
       "    <tr>\n",
       "      <th>2</th>\n",
       "      <td>1093.0</td>\n",
       "      <td>17.5</td>\n",
       "      <td>3</td>\n",
       "      <td>0.0</td>\n",
       "      <td>0.0</td>\n",
       "      <td>76.0</td>\n",
       "      <td>0</td>\n",
       "      <td>0</td>\n",
       "      <td>1.63</td>\n",
       "    </tr>\n",
       "    <tr>\n",
       "      <th>3</th>\n",
       "      <td>1163.0</td>\n",
       "      <td>17.5</td>\n",
       "      <td>1</td>\n",
       "      <td>0.0</td>\n",
       "      <td>0.0</td>\n",
       "      <td>80.0</td>\n",
       "      <td>0</td>\n",
       "      <td>0</td>\n",
       "      <td>1.77</td>\n",
       "    </tr>\n",
       "    <tr>\n",
       "      <th>4</th>\n",
       "      <td>3083.0</td>\n",
       "      <td>8.5</td>\n",
       "      <td>3</td>\n",
       "      <td>0.0</td>\n",
       "      <td>0.0</td>\n",
       "      <td>80.0</td>\n",
       "      <td>0</td>\n",
       "      <td>0</td>\n",
       "      <td>1.17</td>\n",
       "    </tr>\n",
       "  </tbody>\n",
       "</table>\n",
       "</div>"
      ],
      "text/plain": [
       "   Depth_(m)  Bit Size_(inch)  Bit_Type  Weight_on_Bit  Bit_Rotation_(RPM)  \\\n",
       "0       18.0             26.0         1            3.5                35.0   \n",
       "1       20.0             26.0         1            3.5                35.0   \n",
       "2     1093.0             17.5         3            0.0                 0.0   \n",
       "3     1163.0             17.5         1            0.0                 0.0   \n",
       "4     3083.0              8.5         3            0.0                 0.0   \n",
       "\n",
       "   Mud_Weight(pcf)  Flow_Rate(gpm)  Pump_Pressure_(psia)  \\\n",
       "0             65.0             100                     0   \n",
       "1             65.0             100                   200   \n",
       "2             76.0               0                     0   \n",
       "3             80.0               0                     0   \n",
       "4             80.0               0                     0   \n",
       "\n",
       "   Rate_of_Penetration_ROP_(M/H)  \n",
       "0                           0.20  \n",
       "1                           2.50  \n",
       "2                           1.63  \n",
       "3                           1.77  \n",
       "4                           1.17  "
      ]
     },
     "execution_count": 8,
     "metadata": {},
     "output_type": "execute_result"
    }
   ],
   "source": [
    "# Read in data\n",
    "link ='https://raw.githubusercontent.com/vinthegreat84/ML-Lab/main/data/drilling.csv'\n",
    "data = pd.read_csv(link)\n",
    "data.head()\n"
   ]
  },
  {
   "cell_type": "code",
   "execution_count": 9,
   "id": "e9f48b45",
   "metadata": {},
   "outputs": [
    {
     "data": {
      "text/html": [
       "<div>\n",
       "<style scoped>\n",
       "    .dataframe tbody tr th:only-of-type {\n",
       "        vertical-align: middle;\n",
       "    }\n",
       "\n",
       "    .dataframe tbody tr th {\n",
       "        vertical-align: top;\n",
       "    }\n",
       "\n",
       "    .dataframe thead th {\n",
       "        text-align: right;\n",
       "    }\n",
       "</style>\n",
       "<table border=\"1\" class=\"dataframe\">\n",
       "  <thead>\n",
       "    <tr style=\"text-align: right;\">\n",
       "      <th></th>\n",
       "      <th>count</th>\n",
       "      <th>mean</th>\n",
       "      <th>std</th>\n",
       "      <th>min</th>\n",
       "      <th>25%</th>\n",
       "      <th>50%</th>\n",
       "      <th>75%</th>\n",
       "      <th>max</th>\n",
       "    </tr>\n",
       "  </thead>\n",
       "  <tbody>\n",
       "    <tr>\n",
       "      <th>Depth_(m)</th>\n",
       "      <td>20.0</td>\n",
       "      <td>2558.9125</td>\n",
       "      <td>1118.441794</td>\n",
       "      <td>18.00</td>\n",
       "      <td>2569.4500</td>\n",
       "      <td>2848.500</td>\n",
       "      <td>3341.250</td>\n",
       "      <td>3696.00</td>\n",
       "    </tr>\n",
       "    <tr>\n",
       "      <th>Bit Size_(inch)</th>\n",
       "      <td>20.0</td>\n",
       "      <td>12.4130</td>\n",
       "      <td>5.581937</td>\n",
       "      <td>6.13</td>\n",
       "      <td>8.5000</td>\n",
       "      <td>12.250</td>\n",
       "      <td>12.250</td>\n",
       "      <td>26.00</td>\n",
       "    </tr>\n",
       "    <tr>\n",
       "      <th>Bit_Type</th>\n",
       "      <td>20.0</td>\n",
       "      <td>2.4000</td>\n",
       "      <td>0.753937</td>\n",
       "      <td>1.00</td>\n",
       "      <td>2.0000</td>\n",
       "      <td>3.000</td>\n",
       "      <td>3.000</td>\n",
       "      <td>3.00</td>\n",
       "    </tr>\n",
       "    <tr>\n",
       "      <th>Weight_on_Bit</th>\n",
       "      <td>20.0</td>\n",
       "      <td>10.4750</td>\n",
       "      <td>11.638723</td>\n",
       "      <td>0.00</td>\n",
       "      <td>0.0000</td>\n",
       "      <td>7.500</td>\n",
       "      <td>18.125</td>\n",
       "      <td>30.00</td>\n",
       "    </tr>\n",
       "    <tr>\n",
       "      <th>Bit_Rotation_(RPM)</th>\n",
       "      <td>20.0</td>\n",
       "      <td>15.1250</td>\n",
       "      <td>17.177000</td>\n",
       "      <td>0.00</td>\n",
       "      <td>0.0000</td>\n",
       "      <td>0.000</td>\n",
       "      <td>32.500</td>\n",
       "      <td>35.00</td>\n",
       "    </tr>\n",
       "    <tr>\n",
       "      <th>Mud_Weight(pcf)</th>\n",
       "      <td>20.0</td>\n",
       "      <td>82.5000</td>\n",
       "      <td>11.037019</td>\n",
       "      <td>62.00</td>\n",
       "      <td>79.0000</td>\n",
       "      <td>87.000</td>\n",
       "      <td>89.000</td>\n",
       "      <td>101.50</td>\n",
       "    </tr>\n",
       "    <tr>\n",
       "      <th>Flow_Rate(gpm)</th>\n",
       "      <td>20.0</td>\n",
       "      <td>297.7500</td>\n",
       "      <td>233.646579</td>\n",
       "      <td>0.00</td>\n",
       "      <td>75.0000</td>\n",
       "      <td>385.000</td>\n",
       "      <td>550.000</td>\n",
       "      <td>670.00</td>\n",
       "    </tr>\n",
       "    <tr>\n",
       "      <th>Pump_Pressure_(psia)</th>\n",
       "      <td>20.0</td>\n",
       "      <td>1516.5000</td>\n",
       "      <td>1153.905382</td>\n",
       "      <td>0.00</td>\n",
       "      <td>0.0000</td>\n",
       "      <td>2070.000</td>\n",
       "      <td>2402.500</td>\n",
       "      <td>2650.00</td>\n",
       "    </tr>\n",
       "    <tr>\n",
       "      <th>Rate_of_Penetration_ROP_(M/H)</th>\n",
       "      <td>20.0</td>\n",
       "      <td>1.3370</td>\n",
       "      <td>1.503901</td>\n",
       "      <td>0.17</td>\n",
       "      <td>0.2175</td>\n",
       "      <td>1.295</td>\n",
       "      <td>1.545</td>\n",
       "      <td>7.02</td>\n",
       "    </tr>\n",
       "  </tbody>\n",
       "</table>\n",
       "</div>"
      ],
      "text/plain": [
       "                               count       mean          std    min  \\\n",
       "Depth_(m)                       20.0  2558.9125  1118.441794  18.00   \n",
       "Bit Size_(inch)                 20.0    12.4130     5.581937   6.13   \n",
       "Bit_Type                        20.0     2.4000     0.753937   1.00   \n",
       "Weight_on_Bit                   20.0    10.4750    11.638723   0.00   \n",
       "Bit_Rotation_(RPM)              20.0    15.1250    17.177000   0.00   \n",
       "Mud_Weight(pcf)                 20.0    82.5000    11.037019  62.00   \n",
       "Flow_Rate(gpm)                  20.0   297.7500   233.646579   0.00   \n",
       "Pump_Pressure_(psia)            20.0  1516.5000  1153.905382   0.00   \n",
       "Rate_of_Penetration_ROP_(M/H)   20.0     1.3370     1.503901   0.17   \n",
       "\n",
       "                                     25%       50%       75%      max  \n",
       "Depth_(m)                      2569.4500  2848.500  3341.250  3696.00  \n",
       "Bit Size_(inch)                   8.5000    12.250    12.250    26.00  \n",
       "Bit_Type                          2.0000     3.000     3.000     3.00  \n",
       "Weight_on_Bit                     0.0000     7.500    18.125    30.00  \n",
       "Bit_Rotation_(RPM)                0.0000     0.000    32.500    35.00  \n",
       "Mud_Weight(pcf)                  79.0000    87.000    89.000   101.50  \n",
       "Flow_Rate(gpm)                   75.0000   385.000   550.000   670.00  \n",
       "Pump_Pressure_(psia)              0.0000  2070.000  2402.500  2650.00  \n",
       "Rate_of_Penetration_ROP_(M/H)     0.2175     1.295     1.545     7.02  "
      ]
     },
     "execution_count": 9,
     "metadata": {},
     "output_type": "execute_result"
    }
   ],
   "source": [
    "# summary Statistics\n",
    "data.describe().transpose()"
   ]
  },
  {
   "cell_type": "code",
   "execution_count": 10,
   "id": "2c665e58",
   "metadata": {},
   "outputs": [],
   "source": [
    "# Split data into features and target\n",
    "X = data.drop(columns=[\"Rate_of_Penetration_ROP_(M/H)\"])\n",
    "y = data[\"Rate_of_Penetration_ROP_(M/H)\"]"
   ]
  },
  {
   "cell_type": "code",
   "execution_count": 11,
   "id": "9d3dfc3b",
   "metadata": {},
   "outputs": [],
   "source": [
    "# Split data into training and test sets\n",
    "X_train, X_test, y_train, y_test = train_test_split(X, y, test_size=0.2,\n",
    "random_state=42)"
   ]
  },
  {
   "cell_type": "code",
   "execution_count": 15,
   "id": "f89673b0",
   "metadata": {},
   "outputs": [
    {
     "data": {
      "text/plain": [
       "LinearRegression()"
      ]
     },
     "execution_count": 15,
     "metadata": {},
     "output_type": "execute_result"
    }
   ],
   "source": [
    "# Create a linear regression model\n",
    "reg = LinearRegression()\n",
    "# Fit the model to the training data\n",
    "reg.fit(X_train, y_train)"
   ]
  },
  {
   "cell_type": "code",
   "execution_count": 16,
   "id": "d14c4e0e",
   "metadata": {},
   "outputs": [],
   "source": [
    "# Make predictions on the test data\n",
    "y_pred = reg.predict(X_test)\n"
   ]
  },
  {
   "cell_type": "code",
   "execution_count": 17,
   "id": "e33e8bb9",
   "metadata": {},
   "outputs": [],
   "source": [
    "# Evaluate the model\n",
    "mae = mean_absolute_error(y_test, y_pred)\n",
    "mse = mean_squared_error(y_test, y_pred)\n",
    "rmse = np.sqrt(mean_squared_error(y_test, y_pred))\n",
    "r2 = r2_score(y_test, y_pred)\n"
   ]
  },
  {
   "cell_type": "code",
   "execution_count": 18,
   "id": "4d9d03fc",
   "metadata": {},
   "outputs": [
    {
     "name": "stdout",
     "output_type": "stream",
     "text": [
      "Mean Absolute Error: 2.3730804362613176\n",
      "Mean Squared Error: 12.118254854947612\n",
      "Root Mean Squared Error:  3.481128388173526\n",
      "R-squared value:  -17.09184179294415\n"
     ]
    }
   ],
   "source": [
    "print(\"Mean Absolute Error:\", mae)\n",
    "print(\"Mean Squared Error:\", mse)\n",
    "print(\"Root Mean Squared Error: \", rmse)\n",
    "print(\"R-squared value: \", r2)"
   ]
  },
  {
   "cell_type": "code",
   "execution_count": 19,
   "id": "99e09949",
   "metadata": {},
   "outputs": [
    {
     "data": {
      "image/png": "[encoded data removed]",
      "text/plain": [
       "<Figure size 640x480 with 1 Axes>"
      ]
     },
     "metadata": {},
     "output_type": "display_data"
    }
   ],
   "source": [
    "# Plot the residuals\n",
    "residuals = y_test - y_pred\n",
    "plt.scatter(y_pred, residuals)\n",
    "plt.xlabel(\"Predicted\")\n",
    "plt.ylabel(\"Residuals\")\n",
    "plt.axhline(y=0, color='red')\n",
    "plt.title(\"Residual Plot\")\n",
    "plt.show()"
   ]
  },
  {
   "cell_type": "code",
   "execution_count": 20,
   "id": "01ef3ae9",
   "metadata": {
    "scrolled": true
   },
   "outputs": [
    {
     "data": {
      "image/png": "[encoded data removed]",
      "text/plain": [
       "<Figure size 640x480 with 1 Axes>"
      ]
     },
     "metadata": {},
     "output_type": "display_data"
    }
   ],
   "source": [
    "# Plot the residuals\n",
    "residuals = y_test - y_pred\n",
    "plt.scatter(y_pred, residuals)\n",
    "plt.xlabel(\"Predicted\")\n",
    "plt.ylabel(\"Residuals\")\n",
    "plt.axhline(y=0, color='red')\n",
    "plt.title(\"Residual Plot\")\n",
    "plt.show()"
   ]
  },
  {
   "cell_type": "code",
   "execution_count": 21,
   "id": "b3be3dbb",
   "metadata": {},
   "outputs": [
    {
     "data": {
      "image/png": "[encoded data removed]",
      "text/plain": [
       "<Figure size 640x480 with 1 Axes>"
      ]
     },
     "metadata": {},
     "output_type": "display_data"
    }
   ],
   "source": [
    "# Model evaluation graphical display by plotting histograms of residuals\n",
    "plt.hist(residuals, bins=20, color='blue')\n",
    "plt.xlabel(\"Residuals\")\n",
    "plt.ylabel(\"Frequency\")\n",
    "plt.title(\"Histogram of Residuals\")\n",
    "plt.show()"
   ]
  },
  {
   "cell_type": "code",
   "execution_count": null,
   "id": "99d71796",
   "metadata": {},
   "outputs": [],
   "source": []
  }
 ],
 "metadata": {
  "kernelspec": {
   "display_name": "Python 3 (ipykernel)",
   "language": "python",
   "name": "python3"
  },
  "language_info": {
   "codemirror_mode": {
    "name": "ipython",
    "version": 3
   },
   "file_extension": ".py",
   "mimetype": "text/x-python",
   "name": "python",
   "nbconvert_exporter": "python",
   "pygments_lexer": "ipython3",
   "version": "3.9.13"
  }
 },
 "nbformat": 4,
 "nbformat_minor": 5
}
